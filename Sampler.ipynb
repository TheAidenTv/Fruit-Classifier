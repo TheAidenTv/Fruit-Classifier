{
 "cells": [
  {
   "cell_type": "code",
   "execution_count": 64,
   "metadata": {},
   "outputs": [],
   "source": [
    "# This python code will load all the images from a given directory and will seperate them into training and testing data\n",
    "# By moving the files into seperate directories\n",
    "\n",
    "import os\n",
    "import shutil\n",
    "import random\n",
    "\n",
    "# Load all the images from the given directory\n",
    "path = 'C:\\\\Users\\\\aiden\\\\Downloads\\\\archive\\\\stale_banana'\n",
    "\n",
    "# Create a list of all the images in the directory\n",
    "files = os.listdir(path)\n",
    "\n",
    "# Shuffle the list of images\n",
    "random.shuffle(files)"
   ]
  },
  {
   "cell_type": "code",
   "execution_count": 65,
   "metadata": {},
   "outputs": [
    {
     "data": {
      "text/plain": [
       "1467"
      ]
     },
     "execution_count": 65,
     "metadata": {},
     "output_type": "execute_result"
    }
   ],
   "source": [
    "len(files)"
   ]
  },
  {
   "cell_type": "code",
   "execution_count": 66,
   "metadata": {},
   "outputs": [],
   "source": [
    "A = int(len(files) * 0.755)"
   ]
  },
  {
   "cell_type": "code",
   "execution_count": 67,
   "metadata": {},
   "outputs": [],
   "source": [
    "B = int(len(files) * 0.240)"
   ]
  },
  {
   "cell_type": "code",
   "execution_count": 68,
   "metadata": {},
   "outputs": [
    {
     "data": {
      "text/plain": [
       "1459"
      ]
     },
     "execution_count": 68,
     "metadata": {},
     "output_type": "execute_result"
    }
   ],
   "source": [
    "A + B"
   ]
  },
  {
   "cell_type": "code",
   "execution_count": 69,
   "metadata": {},
   "outputs": [],
   "source": [
    "C = int(len(files) * 0.005)"
   ]
  },
  {
   "cell_type": "code",
   "execution_count": 70,
   "metadata": {},
   "outputs": [
    {
     "data": {
      "text/plain": [
       "1466"
      ]
     },
     "execution_count": 70,
     "metadata": {},
     "output_type": "execute_result"
    }
   ],
   "source": [
    "A + B + C"
   ]
  },
  {
   "cell_type": "code",
   "execution_count": 71,
   "metadata": {},
   "outputs": [],
   "source": [
    "# Move 80% of the images into the training directory\n",
    "for i in range(A):\n",
    "    shutil.copy(path + '\\\\' + files[i], 'C:\\\\Users\\\\aiden\\\\Downloads\\\\archive\\\\train\\\\rotten')\n",
    "\n",
    "for i in range(A, A + B):\n",
    "    shutil.copy(path + '\\\\' + files[i], 'C:\\\\Users\\\\aiden\\\\Downloads\\\\archive\\\\validate\\\\rotten')\n",
    "\n",
    "for i in range(A + B, A + B + C):\n",
    "    shutil.copy(path + '\\\\' + files[i], 'C:\\\\Users\\\\aiden\\\\Downloads\\\\archive\\\\test')"
   ]
  }
 ],
 "metadata": {
  "kernelspec": {
   "display_name": "Python 3",
   "language": "python",
   "name": "python3"
  },
  "language_info": {
   "codemirror_mode": {
    "name": "ipython",
    "version": 3
   },
   "file_extension": ".py",
   "mimetype": "text/x-python",
   "name": "python",
   "nbconvert_exporter": "python",
   "pygments_lexer": "ipython3",
   "version": "3.11.4"
  }
 },
 "nbformat": 4,
 "nbformat_minor": 2
}
